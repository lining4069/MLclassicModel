{
 "cells": [
  {
   "cell_type": "markdown",
   "metadata": {},
   "source": [
    "### 可视化"
   ]
  },
  {
   "cell_type": "code",
   "execution_count": null,
   "metadata": {},
   "outputs": [],
   "source": [
    "\n",
    "\n",
    "import Matplotlib.pyplot as plt\n",
    "s.plot()\n",
    "plt.show()\n",
    "\n",
    "df2.plot()\n",
    "plt.show()\n"
   ]
  },
  {
   "cell_type": "markdown",
   "metadata": {},
   "source": [
    "### 日期"
   ]
  },
  {
   "cell_type": "code",
   "execution_count": null,
   "metadata": {},
   "outputs": [],
   "source": [
    "\n",
    "\n",
    "df2['Date'] = pd.to_datatime\n",
    "(df2['Data'])\n",
    "df2['Date'] = pd.date_range\n",
    "('2000-1-1', periods=6, freq ='M')\n",
    "dates = [datetime(2012,5,1), \n",
    "datetime(2012,5,2)]\n",
    "index = pd.DatetimeIndex(dates)\n",
    "index = pd.date_range\n",
    "(datetime(2012,2,1)), end, freq='BM'\n"
   ]
  },
  {
   "cell_type": "markdown",
   "metadata": {},
   "source": [
    "### 结合数据"
   ]
  },
  {
   "cell_type": "code",
   "execution_count": null,
   "metadata": {},
   "outputs": [],
   "source": [
    "\n",
    "\n",
    "#Merge\n",
    "pd.merge(data1, data2, \n",
    "how='left', on='X1')\n",
    "pd.merge(data1, data2,\n",
    "how='right', on='X1')\n",
    "pd.merge(data1, data2, \n",
    "how='inner', on='X1')\n",
    "pd.merge(data1, data2, \n",
    "how='outer', on='X1')\n",
    "\n",
    "#join\n",
    "data1.join(data2, how='right')\n",
    "\n",
    "#concatenate\n",
    "#vertical\n",
    "s.append(s2)\n",
    "#horizontal/vertical\n",
    "pd.concat([s,s2], axis=1,\n",
    " keys=['One','Two'])\n",
    "pd.concat([data1, data2], \n",
    "axis=1, join='inner')\n"
   ]
  },
  {
   "cell_type": "markdown",
   "metadata": {},
   "source": [
    "### 分组数据"
   ]
  },
  {
   "cell_type": "code",
   "execution_count": null,
   "metadata": {},
   "outputs": [],
   "source": [
    "\n",
    "\n",
    "#aggregation\n",
    "df2.groupby(\n",
    "by=['Data', 'Type']).mean()\n",
    "df4.groupby(level=0).sum()\n",
    "df4.groupby(level=0).agg\n",
    "({'a':lama x:sum(x)/len(x), \n",
    "'b':np.sum})\n",
    "\n",
    "#Transformation\n",
    "customSum=lamda x:(x+x%2)\n",
    "df4.groupby\n",
    "(level=0).transform(customSum)\n"
   ]
  },
  {
   "cell_type": "markdown",
   "metadata": {},
   "source": [
    "### 复制数据"
   ]
  },
  {
   "cell_type": "code",
   "execution_count": null,
   "metadata": {},
   "outputs": [],
   "source": [
    "\n",
    "\n",
    "s3.unique() \n",
    "#返回唯一值\n",
    "df2.duplicated('Tyepe') \n",
    "#检查重复值\n",
    "df2.drop_duplicates(\n",
    "'Type', keep=last'') \n",
    "#丢弃重复值\n",
    "df.index.duplicated() \n",
    "#检查索引重复\n"
   ]
  },
  {
   "cell_type": "markdown",
   "metadata": {},
   "source": [
    "### 高级索引"
   ]
  },
  {
   "cell_type": "code",
   "execution_count": null,
   "metadata": {},
   "outputs": [],
   "source": [
    "\n",
    "\n",
    "#basic\n",
    "df3.loc[:, (df3>1).any()] \n",
    "#选列 其中任意元素>1\n",
    "df3.loc[:, (df3>1).all()] \n",
    "#选列 其中所有>1\n",
    "df3.loc[:, df3.isnull().any()] \n",
    "#选列 其中含空\n",
    "df3.loc[:,df3.notnull().all()] \n",
    "#选列 其中不含空\n",
    "\n",
    "df[(df.Country.isin(df2.Type))] \n",
    "#寻找相同元素\n",
    "df3.filter(items=[\"a\",\"b\"]) \n",
    "#根据值筛选\n",
    "df.select(lamda x: not x%5) \n",
    "#选特定元素\n",
    "\n",
    "s.where(s>0) \n",
    "#数据分子集\n",
    "\n",
    "df6.query('second >first') \n",
    "#query 数据结构\n",
    "\n",
    "\n",
    "#selecting\n",
    "df.set_index('Country') \n",
    "#设置索引\n",
    "df4 = df.reset_index() \n",
    "#重置索引\n",
    "df =df.rename(index = str, \n",
    "columns={\"Country\":\"cntry\", \n",
    "\"Capital\":\"cptl\",\"Population\":\"ppltn\"}) \n",
    "#重命名数据结构\n",
    "\n",
    "#Reindexing\n",
    "s2 = s.reindex(['a', 'c', 'd', 'e', 'b'])\n",
    "#Forward Filling\n",
    "df.reindex(range(4), \n",
    "method='ffill')\n",
    "#Backward Filling\n",
    "s3 = s.reindex(range(5), \n",
    "method='bfill')\n",
    "\n",
    "#MultiIndexing\n",
    "arrays = [np.array([1,2,3]), \n",
    "np.array([5,4,3])]\n",
    "df5 = pd.DataFrame(\n",
    "np.random.rand(3,2), index = arrays)\n",
    "tuples = list(zip( *arrays))\n",
    "index = pd.MultiIndex.from_tuples(\n",
    "tuples, names=['first', 'second'])\n",
    "df6 = pd.DataFrame(\n",
    "np.random.rand(3,2), index = index)\n",
    "df2.set_index([\"Data\",\"Type\"])\n"
   ]
  },
  {
   "cell_type": "markdown",
   "metadata": {},
   "source": [
    "### 迭代"
   ]
  },
  {
   "cell_type": "code",
   "execution_count": null,
   "metadata": {},
   "outputs": [],
   "source": [
    "df.iteritems( ) #列索引 \n",
    "df.iterrows( ) #行索引"
   ]
  },
  {
   "cell_type": "markdown",
   "metadata": {},
   "source": [
    "### 数据重构"
   ]
  },
  {
   "cell_type": "code",
   "execution_count": null,
   "metadata": {},
   "outputs": [],
   "source": [
    "#Pivot\n",
    "df3 = df2.pivot( index = 'Date', \n",
    "columns = 'Type', values = 'Value') #行变列\n",
    "\n",
    "#Pivot Table\n",
    "df4 = pd.pivot_table( df2,\n",
    "values='Value',\n",
    "index = 'Date', \n",
    "columns='Type'] #行变列\n",
    "\n",
    "#Stack/Unstack\n",
    "stacked = df5.stack( ) \n",
    "stacked.unstacked( )\n",
    "\n",
    "#Melt\n",
    "pd.melt(df2, id_vars=[\"Date\"], \n",
    "value_vars=[\"Type\",\"Value\"], \n",
    "value_name=\"Observations\") \n",
    "#将列变行"
   ]
  },
  {
   "cell_type": "markdown",
   "metadata": {},
   "source": [
    "### 以元组(tuple)形式按行写入数据"
   ]
  },
  {
   "cell_type": "code",
   "execution_count": null,
   "metadata": {},
   "outputs": [],
   "source": [
    "\n",
    "\n",
    "import pandas as pd\n",
    "py_recipe_output = pd.read_csv(\"data.csv\")\n",
    "writer = py_recipe_output.get_writer()\n",
    "\n",
    "# t is of the form :\n",
    "#   (value0, value1, ...)\n",
    "\n",
    "for t in data_to_write:\n",
    "    writer.write_tuple(t)\n"
   ]
  },
  {
   "cell_type": "markdown",
   "metadata": {},
   "source": [
    "### 以字典(dict)形式按行写入数"
   ]
  },
  {
   "cell_type": "code",
   "execution_count": null,
   "metadata": {},
   "outputs": [],
   "source": [
    "\n",
    "\n",
    "import pandas as pd\n",
    "py_recipe_output = pd.read_csv(\"data.csv\")\n",
    "writer = py_recipe_output.get_writer()\n",
    "\n",
    "# d is of the form :\n",
    "#   {'col_0': value0, 'col_1': value1, ...}\n",
    "\n",
    "for d in data_to_write:\n",
    "    writer.write_row_dict(r)\n"
   ]
  },
  {
   "cell_type": "markdown",
   "metadata": {},
   "source": [
    "### 使用boolean formula过滤或去除数据"
   ]
  },
  {
   "cell_type": "code",
   "execution_count": null,
   "metadata": {},
   "outputs": [],
   "source": [
    "\n",
    "\n",
    "import pandas as pd\n",
    "# single value\n",
    "cond1 = (my_df['col_0'] == value)\n",
    "cond2 = (my_df['col_1'].isin([value1, value2]))\n",
    "# boolean operators :\n",
    "# - negation : ~  (tilde)\n",
    "# - or : |\n",
    "# - and : &\n",
    "cond = (cond1 | cond2)\n",
    "my_records = my_df[cond]\n"
   ]
  },
  {
   "cell_type": "markdown",
   "metadata": {},
   "source": [
    "### 将数据集加载成多个dataframe\n",
    "\n"
   ]
  },
  {
   "cell_type": "code",
   "execution_count": null,
   "metadata": {},
   "outputs": [],
   "source": [
    "\n",
    "\n",
    "import pandas as pd\n",
    "my_dataset = pd.read_csv(\"data.csv\")\n",
    "\n",
    "for partial_dataframe in my_dataset.iter_dataframes(chunksize=2000):\n",
    "    # Insert here applicative logic on each partial dataframe.\n",
    "    pass\n"
   ]
  },
  {
   "cell_type": "markdown",
   "metadata": {},
   "source": [
    "### 合并有相同名称的列的两个datafame"
   ]
  },
  {
   "cell_type": "code",
   "execution_count": null,
   "metadata": {},
   "outputs": [],
   "source": [
    "\n",
    "\n",
    "import pandas as pd\n",
    "# my_df 是一个pandas dataframe\n",
    "merged = my_df.merge(my_df2,\n",
    "on='col', # ['col_0', 'col_1'] for many\n",
    "how=\"inner\",\n",
    "# suffixes=(\"_from_my_df\", \"_from_my_df2\"))\n"
   ]
  },
  {
   "cell_type": "markdown",
   "metadata": {},
   "source": [
    "### 使用条件定位替换值"
   ]
  },
  {
   "cell_type": "code",
   "execution_count": null,
   "metadata": {},
   "outputs": [],
   "source": [
    "\n",
    "\n",
    "import pandas as pd\n",
    "# my_df_orig 是一个pandas dataframe\n",
    "cond = (my_df_orig['col'] != value)\n",
    "my_df_orig['col'][cond] = \"other_value\"\n"
   ]
  },
  {
   "cell_type": "markdown",
   "metadata": {},
   "source": [
    "### 使用目标值的label定位替换值\n",
    "\n"
   ]
  },
  {
   "cell_type": "code",
   "execution_count": null,
   "metadata": {},
   "outputs": [],
   "source": [
    "\n",
    "\n",
    "import pandas as pd\n",
    "# my_df 是一个pandas dataframe\n",
    "my_df['col'].loc[my_label] = new_value\n"
   ]
  },
  {
   "cell_type": "markdown",
   "metadata": {},
   "source": [
    "### 使用目标值的位置定位替换"
   ]
  },
  {
   "cell_type": "code",
   "execution_count": null,
   "metadata": {},
   "outputs": [],
   "source": [
    "\n",
    "\n",
    "import pandas as pd\n",
    "# my_df 是一个pandas dataframe\n",
    "my_df[]'col'].iloc[0] = new_value  # replacement for first record\n"
   ]
  },
  {
   "cell_type": "markdown",
   "metadata": {},
   "source": [
    "### 设置聚合方程进行交叉制表\n",
    "\n"
   ]
  },
  {
   "cell_type": "code",
   "execution_count": null,
   "metadata": {},
   "outputs": [],
   "source": [
    "\n",
    "\n",
    "# 交叉制表是统计学中一个将分类数据聚合成列联表的操作\n",
    "import pandas as pd\n",
    "# my_df 是一个pandas dataframe\n",
    "stats =  pd.crosstab(\n",
    "    rows=my_df[\"make\"],\n",
    "    cols=[my_df[\"fuel_type\"], my_df[\"aspiration\"]],\n",
    "    values=my_df[\"horsepower\"],\n",
    "    aggfunc='max',   # aggregation function\n",
    "    margins=True     # add subtotals on rows and cols\n",
    ")\n"
   ]
  },
  {
   "cell_type": "markdown",
   "metadata": {},
   "source": [
    "### 计算频率进行交叉制表"
   ]
  },
  {
   "cell_type": "code",
   "execution_count": null,
   "metadata": {},
   "outputs": [],
   "source": [
    "\n",
    "\n",
    "# 交叉制表是统计学中一个将分类数据聚合成列联表的操作\n",
    "import pandas as pd\n",
    "# my_df 是一个pandas dataframe\n",
    "freqs = pd.crosstab(\n",
    "    rows=my_df[\"make\"],\n",
    "    cols=[my_df[\"fuel_type\"], my_df[\"aspiration\"]]\n",
    ")\n"
   ]
  }
 ],
 "metadata": {
  "kernelspec": {
   "display_name": "Python 3",
   "language": "python",
   "name": "python3"
  },
  "language_info": {
   "codemirror_mode": {
    "name": "ipython",
    "version": 3
   },
   "file_extension": ".py",
   "mimetype": "text/x-python",
   "name": "python",
   "nbconvert_exporter": "python",
   "pygments_lexer": "ipython3",
   "version": "3.7.3"
  }
 },
 "nbformat": 4,
 "nbformat_minor": 2
}

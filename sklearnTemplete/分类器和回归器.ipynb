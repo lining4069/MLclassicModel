{
 "cells": [
  {
   "cell_type": "markdown",
   "metadata": {},
   "source": [
    "## 分类器"
   ]
  },
  {
   "cell_type": "markdown",
   "metadata": {},
   "source": [
    "### 随机森林(Random Forest)"
   ]
  },
  {
   "cell_type": "code",
   "execution_count": null,
   "metadata": {},
   "outputs": [],
   "source": [
    "# http://scikit-learn.org/stable/modules/generated/sklearn.ensemble.RandomForestClassifier.html\n",
    "from sklearn.ensemble import RandomForestClassifier\n",
    "import numpy as np\n",
    "\n",
    "# criterion: str, 'gini' for Gini impurity (Default) and “entropy” for the information gain.\n",
    "clf = RandomForestClassifier(criterion='gini')  \n",
    "# X: array-like, shape = [n_samples, n_features]\n",
    "# y: array-like, shape = [n_samples] or [n_samples, n_outputs]\n",
    "clf.fit(np.array(X), np.array(y))"
   ]
  },
  {
   "cell_type": "markdown",
   "metadata": {},
   "source": [
    "### 随机梯度下降(SGD)"
   ]
  },
  {
   "cell_type": "code",
   "execution_count": null,
   "metadata": {},
   "outputs": [],
   "source": [
    "# http://scikit-learn.org/stable/modules/generated/sklearn.ensemble.RandomForestClassifier.html\n",
    "from sklearn.ensemble import RandomForestClassifier\n",
    "import numpy as np\n",
    "\n",
    "# criterion: str, 'gini' for Gini impurity (Default) and “entropy” for the information gain.\n",
    "clf = RandomForestClassifier(criterion='gini')  \n",
    "# X: array-like, shape = [n_samples, n_features]\n",
    "# y: array-like, shape = [n_samples] or [n_samples, n_outputs]\n",
    "clf.fit(np.array(X), np.array(y))\n",
    "\n",
    "\n",
    "# http://scikit-learn.org/stable/modules/generated/sklearn.linear_model.SGDClassifier.html#sklearn.linear_model.SGDClassifier\n",
    "from sklearn.linear_model import SGDClassifier\n",
    "\n",
    "clf = SGDClassifier(loss=\"hinge\", penalty=\"l2\")\n",
    "clf.fit(X, y)\n",
    "\n",
    "# 数组 X shape:[n_samples, n_features]\n",
    "# 数组 y shape:[n_samples]\n"
   ]
  },
  {
   "cell_type": "markdown",
   "metadata": {},
   "source": [
    "### 支持向量积（SVM）"
   ]
  },
  {
   "cell_type": "code",
   "execution_count": null,
   "metadata": {},
   "outputs": [],
   "source": [
    "# http://scikit-learn.org/dev/modules/generated/sklearn.svm.SVC.html#sklearn.svm.SVC\n",
    "from sklearn import svm\n",
    "import numpy as np\n",
    "\n",
    "# Classifier Option 1: SVC()\n",
    "clf = svm.SVC()       # kernel = 'linear' or 'rbf' (default) or 'poly' or custom kernels; penalty C = 1.0 (default)\n",
    "# Option 2: NuSVC()\n",
    "# clf = svm.NuSVC() \n",
    "# Option 3: LinearSVC()\n",
    "# clf = svm.LinearSVC()     # penalty : str, ‘l1’ or ‘l2’ (default=’l2’)\n",
    "clf.fit(X, y)                # X shape = [n_samples, n_features], y shape = [n_samples] or [n_samples, n_outputs]\n",
    "\n",
    "# print(clf.support_vectors_) # get support vectors\n",
    "# print(clf.support_)         # get indeices of support vectors\n",
    "# print(clf.n_support_)       # get number of support vectors for each class\n",
    "\n",
    "mean_accuracy = clf.score(X,y)\n",
    "print(\"Accuracy: %.3f\"%(mean_accuracy))"
   ]
  },
  {
   "cell_type": "markdown",
   "metadata": {},
   "source": [
    "### 线性支持向量机(SVM)"
   ]
  },
  {
   "cell_type": "code",
   "execution_count": null,
   "metadata": {},
   "outputs": [],
   "source": [
    "# http://scikit-learn.org/dev/modules/generated/sklearn.svm.SVC.html#sklearn.svm.SVC\n",
    "from sklearn.svm import SVC\n",
    "import numpy as np\n",
    "\n",
    "clf = SVC(kernal='linear', C=1.0, random_state=())\n",
    "# X: array-like\n",
    "# y: array-like\n",
    "clf.fit(np.array(X), np.array(y))"
   ]
  },
  {
   "cell_type": "markdown",
   "metadata": {},
   "source": [
    "### 朴素贝叶斯"
   ]
  },
  {
   "cell_type": "code",
   "execution_count": null,
   "metadata": {},
   "outputs": [],
   "source": [
    "# http://scikit-learn.org/stable/modules/generated/sklearn.naive_bayes.GaussianNB.html\n",
    "from sklearn.naive_bayes import GaussianNB\n",
    "\n",
    "gnb = GaussianNB()\n",
    "y_pred = gnb.fit(train_set, train_features).predict(test_set)"
   ]
  },
  {
   "cell_type": "markdown",
   "metadata": {},
   "source": [
    "### 逻辑回归(LR)"
   ]
  },
  {
   "cell_type": "code",
   "execution_count": null,
   "metadata": {},
   "outputs": [],
   "source": [
    "# http://scikit-learn.org/stable/modules/linear_model.html\n",
    "from sklearn import linear_model\n",
    "\n",
    "lr =linear_model.LogisticRegression()  # penalty : str, ‘l1’ or ‘l2’, default: ‘l2’\n",
    "lr.fit(X, y)"
   ]
  },
  {
   "cell_type": "markdown",
   "metadata": {},
   "source": [
    "### 分类树(Tree)"
   ]
  },
  {
   "cell_type": "code",
   "execution_count": null,
   "metadata": {},
   "outputs": [],
   "source": [
    "#http://scikit-learn.org/stable/modules/generated/sklearn.tree.DecisionTreeClassifier.html\n",
    "from sklearn.tree import DecisionTreeClassifier\n",
    "\n",
    "# criterion = \"gini\" (CART) or \"entropy\" (ID3)\n",
    "clf = DecisionTreeClassifier(criterion = 'entropy' ,random_state = 0)\n",
    "clf.fit(X,y)"
   ]
  },
  {
   "cell_type": "markdown",
   "metadata": {},
   "source": [
    "随机森林(Random Forest)"
   ]
  },
  {
   "cell_type": "markdown",
   "metadata": {},
   "source": [
    "### AdaBoostClassifier"
   ]
  },
  {
   "cell_type": "code",
   "execution_count": null,
   "metadata": {},
   "outputs": [],
   "source": [
    "# 决策树集成\n",
    "from sklearn.ensemble import AdaBoostClassifier\n",
    "from sklearn.tree import DecisionTreeClassifier\n",
    "\n",
    "adaboost_dt_clf = AdaBoostClassifier(\n",
    "                                    DecisionTreeClassifier(\n",
    "                                        max_depth=2,   # 决策树最大深度，默认可不输入即不限制子树深度\n",
    "                                        min_samples_split=20, # 内部结点再划分所需最小样本数，默认值为2，若样本量不大，无需更改，反之增大\n",
    "                                        min_samples_leaf=5    # 叶子节点最少样本数,默认值为1，若样本量不大，无需更改，反之增大\n",
    "                                        ),\n",
    "                                    algorithm=\"SAMME\", # boosting 算法 {‘SAMME’, ‘SAMME.R’}, 默认为后者\n",
    "                                    n_estimators=200,  # 最多200个弱分类器，默认值为50\n",
    "                                    learning_rate=0.8  # 学习率，默认值为1\n",
    "                                     )\n",
    "adaboost_dt_clf.fit(X,y)"
   ]
  },
  {
   "cell_type": "markdown",
   "metadata": {},
   "source": [
    "### GBDT(梯度加速决策树)"
   ]
  },
  {
   "cell_type": "code",
   "execution_count": null,
   "metadata": {},
   "outputs": [],
   "source": [
    "# http://scikit-learn.org/stable/modules/generated/sklearn.ensemble.GradientBoostingClassifier.html#sklearn.ensemble.GradientBoostingClassifier\n",
    "from sklearn.ensemble import GradientBoostingClassifier\n",
    "\n",
    "gbdt = GradientBoostingClassifier(max_depth=4,   # 决策树最大深度，默认可不输入，即不限制子树深度\n",
    "                                max_features=\"auto\",  # 寻找最优分割的特征数量，可为int,float,\"auto\",\"sqrt\",\"log2\",None:\n",
    "                                n_estimators=100 # Boosting阶段的数量，默认值为100。\n",
    "                                )\n",
    "gbdt.fit(X,y)"
   ]
  },
  {
   "cell_type": "markdown",
   "metadata": {},
   "source": [
    "### K-Means"
   ]
  },
  {
   "cell_type": "code",
   "execution_count": null,
   "metadata": {},
   "outputs": [],
   "source": [
    "# http://scikit-learn.org/stable/modules/generated/sklearn.cluster.KMeans.html\n",
    "from sklearn.cluster import KMeans\n",
    "\n",
    "kmeans = KMeans(\n",
    "                n_clusters = 2, # 簇的个数，默认值为8\n",
    "                random_state=0  \n",
    "                ).fit(X)\n",
    "\n",
    "print(kmeans.labels_)\n",
    "print(\"K Clusters Centroids:\\n\", kmeans.cluster_centers_)"
   ]
  },
  {
   "cell_type": "markdown",
   "metadata": {},
   "source": [
    "### 使用 keras 做分类"
   ]
  },
  {
   "cell_type": "code",
   "execution_count": null,
   "metadata": {},
   "outputs": [],
   "source": [
    "from keras.models import Sequential\n",
    "from keras.layers.core import Dense, Dropout, Activation\n",
    "from keras.optimizers import Adam\n",
    "from keras.utils import np_utils\n",
    "\n",
    "training_epochs = 200 #训练次数，总体数据需要循环多少次\n",
    "batch_size = 10  \n",
    "\n",
    "model = Sequential()\n",
    "input = X.shape[1]\n",
    "# 隐藏层128\n",
    "model.add(Dense(128, input_shape=(input,)))\n",
    "model.add(Activation('relu'))\n",
    "# Dropout层用于防止过拟合\n",
    "model.add(Dropout(0.2))\n",
    "# 隐藏层128\n",
    "model.add(Dense(256))\n",
    "model.add(Activation('relu'))\n",
    "model.add(Dropout(0.2))\n",
    "# 没有激活函数用于输出层，二分类问题，用sigmoid激活函数进行变换，多分类用softmax。\n",
    "model.add(Dense(1))\n",
    "model.add(Activation('sigmoid'))\n",
    "# 使用高效的 ADAM 优化算法以，二分类损失函数binary_crossentropy，多分类的损失函数categorical_crossentropy\n",
    "model.compile(loss='binary_crossentropy', optimizer=Adam(), metrics=['accuracy'])\n",
    "\n",
    "history = model.fit(X_train, y_train, validation_data=(X_test,y_test), epochs=training_epochs, batch_size=32)"
   ]
  },
  {
   "cell_type": "markdown",
   "metadata": {},
   "source": [
    "## 回归分析"
   ]
  },
  {
   "cell_type": "markdown",
   "metadata": {},
   "source": [
    "### 使用sklearn"
   ]
  },
  {
   "cell_type": "code",
   "execution_count": null,
   "metadata": {},
   "outputs": [],
   "source": [
    "import sklearn\n",
    "sklearn.linear_model.LinearRegression()\n",
    "\n",
    "# http://scikit-learn.org/stable/modules/linear_model.html"
   ]
  },
  {
   "cell_type": "markdown",
   "metadata": {},
   "source": [
    "### 使用Statsmodels的模型"
   ]
  },
  {
   "cell_type": "code",
   "execution_count": null,
   "metadata": {},
   "outputs": [],
   "source": [
    "import statsmodels.api as sm\n",
    "results = sm.OLS(y, X).fit()\n",
    "\n",
    "# y: matrix\n",
    "# X: constant\n",
    "# http://www.statsmodels.org/dev/index.html"
   ]
  },
  {
   "cell_type": "markdown",
   "metadata": {},
   "source": [
    "### 用矩阵因式分解计算最小二乘(numpy.linalg.lstsq)\n",
    "\n"
   ]
  },
  {
   "cell_type": "code",
   "execution_count": null,
   "metadata": {},
   "outputs": [],
   "source": [
    "import numpy\n",
    "from numpy import linalg\n",
    "\n",
    "linalg.lstsq(a, b, rcond=-1)\n",
    "\n",
    "# a : (M, N) array_like\n",
    "# b : {(M,), (M, K)} array_like\n",
    "# https://docs.scipy.org/doc/numpy-1.13.0/reference/generated/numpy.linalg.lstsq.html\n"
   ]
  },
  {
   "cell_type": "markdown",
   "metadata": {},
   "source": [
    "### 更通用的最小二乘极小化(scipy.o"
   ]
  },
  {
   "cell_type": "code",
   "execution_count": null,
   "metadata": {},
   "outputs": [],
   "source": [
    "import scipy\n",
    "from scipy import optimize\n",
    "\n",
    "optimize.curve_fit(f, xdata, ydata, p0=None, sigma=None, absolute_sigma=False, check_finite=True, bounds=(-inf, inf), method=None, jac=None, **kwargs)\n",
    "\n",
    "# f : callable\n",
    "# xdata : An M-length sequence or an (k,M)-shaped array for functions with k predictors\n",
    "# ydata : M-length sequence\n",
    "# https://docs.scipy.org/doc/scipy/reference/generated/scipy.optimize.curve_fit.html\n"
   ]
  },
  {
   "cell_type": "markdown",
   "metadata": {},
   "source": [
    "### 高度专门化的线性回归函数(scipy.stats)\n",
    "\n"
   ]
  },
  {
   "cell_type": "code",
   "execution_count": null,
   "metadata": {},
   "outputs": [],
   "source": [
    "import scipy\n",
    "from scipy import stats\n",
    "\n",
    "stats.linregress(x, y=none)\n",
    "\n",
    "# x, y : array_like\n",
    "# https://docs.scipy.org/doc/scipy/reference/generated/scipy.stats.linregress.html"
   ]
  },
  {
   "cell_type": "markdown",
   "metadata": {},
   "source": [
    "### 一般的最小二乘多项式拟合"
   ]
  },
  {
   "cell_type": "code",
   "execution_count": null,
   "metadata": {},
   "outputs": [],
   "source": [
    "import numpy as np\n",
    "np.polyfit(x, y, deg, rcond=None, full=False, w=None, cov=False)\n",
    "# x : array_like, shape (M,)\n",
    "# y : array_like, shape (M,) or (M, K)\n",
    "# deg : int\n",
    "# https://docs.scipy.org/doc/numpy-1.13.0/reference/generated/numpy.polyfit.html"
   ]
  }
 ],
 "metadata": {
  "kernelspec": {
   "display_name": "Python 3",
   "language": "python",
   "name": "python3"
  },
  "language_info": {
   "codemirror_mode": {
    "name": "ipython",
    "version": 3
   },
   "file_extension": ".py",
   "mimetype": "text/x-python",
   "name": "python",
   "nbconvert_exporter": "python",
   "pygments_lexer": "ipython3",
   "version": "3.7.3"
  }
 },
 "nbformat": 4,
 "nbformat_minor": 2
}

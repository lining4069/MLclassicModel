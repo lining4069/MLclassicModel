{
 "cells": [
  {
   "cell_type": "markdown",
   "metadata": {},
   "source": [
    "# 降维"
   ]
  },
  {
   "cell_type": "markdown",
   "metadata": {},
   "source": [
    "### 哑编码"
   ]
  },
  {
   "cell_type": "code",
   "execution_count": null,
   "metadata": {},
   "outputs": [],
   "source": [
    "\n",
    "import numpy as np\n",
    "from sklearn import preprocessing\n",
    "\n",
    "raw_result = preprocessing.OneHotEncoder().fit_transform(np.array(X))\n",
    "result = raw_result.tolist()\n",
    "# X: array-like\n",
    "# http://scikit-learn.org/stable/modules/generated/sklearn.preprocessing.OneHotEncoder.html\n"
   ]
  },
  {
   "cell_type": "markdown",
   "metadata": {},
   "source": [
    "### 线性判别分析法（LDA）"
   ]
  },
  {
   "cell_type": "code",
   "execution_count": null,
   "metadata": {},
   "outputs": [],
   "source": [
    "\n",
    "\n",
    "from sklearn.lda import LDA\n",
    "import numpy as np\n",
    "from sklearn import preprocessing\n",
    "\n",
    "matrix = np.array(X)\n",
    "target = np.array(target)\n",
    "temp = LDA(n_components=n_components).fit(matrix, target)\n",
    "coef = temp.coef_\n",
    "mean = temp.means_\n",
    "priors = temp.priors_\n",
    "scalings = temp.scalings_\n",
    "xbar = temp.xbar_\n",
    "label = temp.transform(matrix).tolist()\n",
    "return label, coef.tolist(), mean.tolist(), priors.tolist(), scalings.tolist(), xbar.tolist()\n",
    "\n",
    "# X: array-like\n",
    "# target: array-like\n",
    "# n_components: int\n",
    "# http://scikit-learn.org/0.15/modules/generated/sklearn.lda.LDA.html\n"
   ]
  },
  {
   "cell_type": "markdown",
   "metadata": {},
   "source": [
    "### TSNE-t 分布邻域嵌入算法"
   ]
  },
  {
   "cell_type": "code",
   "execution_count": null,
   "metadata": {},
   "outputs": [],
   "source": [
    "\n",
    "\n",
    "import numpy as np\n",
    "from sklearn.manifold import TSNE\n",
    "\n",
    "matrix = np.array(X)\n",
    "t_sne = TSNE(n_components=2, random_state=0)\n",
    "np.set_printoptions(suppress=True)\n",
    "result = t_sne.fit(matrix)\n",
    "kl_divergence = result.kl_divergence_\n",
    "label = t_sne.fit_transform(matrix).tolist()\n",
    "\n",
    "return label, kl_divergence\n",
    "# X: array-like\n",
    "# http://scikit-learn.org/stable/modules/generated/sklearn.manifold.TSNE.html\n"
   ]
  },
  {
   "cell_type": "markdown",
   "metadata": {},
   "source": [
    "### PCA 主成分分析算法"
   ]
  },
  {
   "cell_type": "code",
   "execution_count": null,
   "metadata": {},
   "outputs": [],
   "source": [
    "\n",
    "\n",
    "import numpy as np\n",
    "from sklearn.decomposition import PCA\n",
    "\n",
    "matrix = np.array(X)\n",
    "pca = PCA(n_components='mle', svd_solver='auto').fit(matrix)\n",
    "result = pca.transform(matrix)\n",
    "label = result.tolist()\n",
    "return label, pca.components_.tolist(), pca.explained_variance_.tolist(), pca.explained_variance_ratio_.tolist(), pca.mean_.tolist(), pca.noise_variance_\n",
    "\n",
    "\n"
   ]
  },
  {
   "cell_type": "markdown",
   "metadata": {},
   "source": [
    "# 特征选择"
   ]
  },
  {
   "cell_type": "markdown",
   "metadata": {},
   "source": [
    "### 基于树模型"
   ]
  },
  {
   "cell_type": "code",
   "execution_count": null,
   "metadata": {},
   "outputs": [],
   "source": [
    "\n",
    "\n",
    "import numpy as np\n",
    "from sklearn import feature_selection\n",
    "from sklearn.ensemble import GradientBoostingClassifier\n",
    "\n",
    "matrix = np.array(X)\n",
    "target = np.array(target)\n",
    "temp = feature_selection.SelectFromModel(GradientBoostingClassifier()).fit(matrix, target)\n",
    "indx = temp._get_support_mask().tolist()\n",
    "scores = get_importance(temp.estimator_).tolist()\n",
    "result = temp.transform(matrix).tolist()\n",
    "return scores, indx, result\n",
    "\n",
    "# X: array-like\n",
    "# target: array-like\n",
    "# http://scikit-learn.org/stable/modules/generated/sklearn.feature_selection.SelectFromModel.html\n"
   ]
  },
  {
   "cell_type": "markdown",
   "metadata": {},
   "source": [
    "### 基于惩罚值"
   ]
  },
  {
   "cell_type": "code",
   "execution_count": null,
   "metadata": {},
   "outputs": [],
   "source": [
    "\n",
    "\n",
    "import numpy as np\n",
    "from sklearn import feature_selection\n",
    "from sklearn.linear_model import LogisticRegression\n",
    "\n",
    "matrix = np.array(arr0)\n",
    "target = np.array(target)\n",
    "temp = feature_selection.SelectFromModel(LogisticRegression(penalty=\"l1\", C=0.1)).fit(matrix, target)\n",
    "indx = temp._get_support_mask().tolist()\n",
    "scores = get_importance(temp.estimator_).tolist()\n",
    "result = temp.transform(matrix).tolist()\n",
    "return scores, indx, result\n",
    "\n",
    "# X: array-like\n",
    "# target: array-like\n",
    "# http://scikit-learn.org/stable/modules/generated/sklearn.feature_selection.SelectFromModel.html\n"
   ]
  },
  {
   "cell_type": "markdown",
   "metadata": {},
   "source": [
    "### 递归特征消除法"
   ]
  },
  {
   "cell_type": "code",
   "execution_count": null,
   "metadata": {},
   "outputs": [],
   "source": [
    "\n",
    "\n",
    "import numpy as np\n",
    "from sklearn import feature_selection\n",
    "from sklearn.linear_model import LogisticRegression\n",
    "\n",
    "matrix = np.array(arr0)\n",
    "target = np.array(target)\n",
    "temp = feature_selection.SelectFromModel(LogisticRegression(penalty=\"l1\", C=0.1)).fit(matrix, target)\n",
    "indx = temp._get_support_mask().tolist()\n",
    "scores = get_importance(temp.estimator_).tolist()\n",
    "result = temp.transform(matrix).tolist()\n",
    "return scores, indx, result\n",
    "\n",
    "# X: array-like\n",
    "# target: array-like\n",
    "# http://scikit-learn.org/stable/modules/generated/sklearn.feature_selection.SelectFromModel.html\n"
   ]
  },
  {
   "cell_type": "markdown",
   "metadata": {},
   "source": [
    "### 互信息选择法"
   ]
  },
  {
   "cell_type": "code",
   "execution_count": null,
   "metadata": {},
   "outputs": [],
   "source": [
    "\n",
    "\n",
    "import numpy as np\n",
    "from sklearn import feature_selection\n",
    "from sklearn.linear_model import LogisticRegression\n",
    "\n",
    "matrix = np.array(arr0)\n",
    "target = np.array(target)\n",
    "temp = feature_selection.SelectFromModel(LogisticRegression(penalty=\"l1\", C=0.1)).fit(matrix, target)\n",
    "indx = temp._get_support_mask().tolist()\n",
    "scores = get_importance(temp.estimator_).tolist()\n",
    "result = temp.transform(matrix).tolist()\n",
    "return scores, indx, result\n",
    "\n",
    "# X: array-like\n",
    "# target: array-like\n",
    "# http://scikit-learn.org/stable/modules/generated/sklearn.feature_selection.SelectFromModel.html\n"
   ]
  },
  {
   "cell_type": "markdown",
   "metadata": {},
   "source": [
    "### 相关系数选择法"
   ]
  },
  {
   "cell_type": "code",
   "execution_count": null,
   "metadata": {},
   "outputs": [],
   "source": [
    "\n",
    "\n",
    "import numpy as np\n",
    "from sklearn import feature_selection\n",
    "from sklearn.feature_selection import chi2\n",
    "\n",
    "matrix = np.array(X)\n",
    "target = np.array(target)\n",
    "temp = feature_selection.SelectKBest(lambda X, Y: np.array(list(map(lambda x: abs(pearsonr(x, Y)[0]), X.T))), k=k).fit(matrix, target)\n",
    "scores = temp.scores_.tolist()\n",
    "indx = temp.get_support().tolist()\n",
    "result = temp.transform(matrix).tolist()\n",
    "return scores, indx, result\n",
    "\n",
    "# X: array-like\n",
    "# target: array-like\n",
    "# k: int\n",
    "# http://scikit-learn.org/stable/modules/generated/sklearn.feature_selection.SelectKBest.html\n"
   ]
  },
  {
   "cell_type": "markdown",
   "metadata": {},
   "source": [
    "### 卡方检验法"
   ]
  },
  {
   "cell_type": "code",
   "execution_count": null,
   "metadata": {},
   "outputs": [],
   "source": [
    "\n",
    "\n",
    "import numpy as np\n",
    "from sklearn import feature_selection\n",
    "from sklearn.feature_selection import chi2\n",
    "\n",
    "matrix = np.array(X)\n",
    "target = np.array(target)\n",
    "temp = feature_selection.SelectKBest(chi2, k=k).fit(matrix, target)\n",
    "scores = temp.scores_.tolist()\n",
    "indx = temp.get_support().tolist()\n",
    "result = temp.transform(matrix).tolist()\n",
    "return scores, indx, result\n",
    "\n",
    "# X: array-like\n",
    "# target: array-like\n",
    "# k: int\n",
    "# http://scikit-learn.org/stable/modules/generated/sklearn.feature_selection.SelectKBest.html\n",
    "\n"
   ]
  },
  {
   "cell_type": "markdown",
   "metadata": {},
   "source": [
    "### 方差选择"
   ]
  },
  {
   "cell_type": "code",
   "execution_count": null,
   "metadata": {},
   "outputs": [],
   "source": []
  }
 ],
 "metadata": {
  "kernelspec": {
   "display_name": "Python 3",
   "language": "python",
   "name": "python3"
  },
  "language_info": {
   "codemirror_mode": {
    "name": "ipython",
    "version": 3
   },
   "file_extension": ".py",
   "mimetype": "text/x-python",
   "name": "python",
   "nbconvert_exporter": "python",
   "pygments_lexer": "ipython3",
   "version": "3.7.3"
  }
 },
 "nbformat": 4,
 "nbformat_minor": 2
}

{
 "cells": [
  {
   "cell_type": "markdown",
   "metadata": {},
   "source": [
    "# 描述性统计信息"
   ]
  },
  {
   "cell_type": "markdown",
   "metadata": {},
   "source": [
    "### 平均数"
   ]
  },
  {
   "cell_type": "code",
   "execution_count": null,
   "metadata": {},
   "outputs": [],
   "source": [
    "\n",
    "\n",
    "import numpy as np\n",
    "np.average(np.array(X))\n",
    "\n",
    "# X: array-like\n",
    "# https://docs.scipy.org/doc/numpy-1.13.0/reference/generated/numpy.average.html\n"
   ]
  },
  {
   "cell_type": "markdown",
   "metadata": {},
   "source": [
    "### 列的分位数"
   ]
  },
  {
   "cell_type": "code",
   "execution_count": null,
   "metadata": {},
   "outputs": [],
   "source": [
    "\n",
    "\n",
    "import pandas as pd\n",
    "# set columns type\n",
    "my_df['col'] = my_df['col'].astype(np.float64)\n",
    "\n",
    "# computations for 4 quantiles : quartiles\n",
    "bins_col = pd.qcut(my_df['col'], 4)\n",
    "bins_col_label = pd.qcut(my_df['col'], 4).labels\n"
   ]
  },
  {
   "cell_type": "markdown",
   "metadata": {},
   "source": [
    "### 多重聚合（组数据）"
   ]
  },
  {
   "cell_type": "code",
   "execution_count": null,
   "metadata": {},
   "outputs": [],
   "source": [
    "\n",
    "\n",
    "# columns settings\n",
    "grouped_on = 'col_0'  # ['col_0', 'col_2'] for multiple columns\n",
    "aggregated_column = 'col_1'\n",
    "\n",
    "### Choice of aggregate functions\n",
    "## On non-NA values in the group\n",
    "## - numeric choice :: mean, median, sum, std, var, min, max, prod\n",
    "## - group choice :: first, last, count\n",
    "# list of functions to compute\n",
    "agg_funcs = ['mean', 'max']\n",
    "\n",
    "\n",
    "# compute aggregate values\n",
    "aggregated_values = my_df.groupby(grouped_on)[aggregated_columns].agg(agg_funcs)\n",
    "\n",
    "# get the aggregate of group\n",
    "aggregated_values.ix[group]\n"
   ]
  },
  {
   "cell_type": "markdown",
   "metadata": {},
   "source": [
    "### 用户定义方程（组数据）"
   ]
  },
  {
   "cell_type": "code",
   "execution_count": null,
   "metadata": {},
   "outputs": [],
   "source": [
    "\n",
    "\n",
    "# columns settings\n",
    "grouped_on = ['col_0']\n",
    "aggregated_columns = ['col_1']\n",
    "\n",
    "def my_func(my_group_array):\n",
    "    return my_group_array.min() * my_group_array.count()\n",
    "\n",
    "## list of functions to compute\n",
    "agg_funcs = [my_func] # could be many\n",
    "\n",
    "# compute aggregate values\n",
    "aggregated_values = my_df.groupby(grouped_on)[aggregated_columns].agg(agg_funcs)\n",
    "\n"
   ]
  },
  {
   "cell_type": "markdown",
   "metadata": {},
   "source": [
    "### 在聚合的dataframe上使用用户定义方程"
   ]
  },
  {
   "cell_type": "code",
   "execution_count": null,
   "metadata": {},
   "outputs": [],
   "source": [
    "\n",
    "\n",
    "# columns settings\n",
    "grouped_on = ['col_0']\n",
    "aggregated_columns = ['col_1']\n",
    "\n",
    "def my_func(my_group_array):\n",
    "    return my_group_array.min() * my_group_array.count()\n",
    "\n",
    "## list of functions to compute\n",
    "agg_funcs = [my_func] # could be many\n",
    "\n",
    "# compute aggregate values\n",
    "aggregated_values = my_df.groupby(grouped_on)[aggregated_columns].agg(agg_funcs)\n",
    "\n"
   ]
  },
  {
   "cell_type": "markdown",
   "metadata": {},
   "source": [
    "### 相关性"
   ]
  },
  {
   "cell_type": "code",
   "execution_count": null,
   "metadata": {},
   "outputs": [],
   "source": [
    "\n",
    "\n",
    "my_df.corr()\n"
   ]
  },
  {
   "cell_type": "markdown",
   "metadata": {},
   "source": [
    "### 移动平均数"
   ]
  },
  {
   "cell_type": "code",
   "execution_count": null,
   "metadata": {},
   "outputs": [],
   "source": [
    "\n",
    "\n",
    "import numpy as np\n",
    "\n",
    "ret = np.cumsum(np.array(X), dtype=float)\n",
    "ret[w:] = ret[w:] - ret[:-w]\n",
    "result = ret[w - 1:] / w\n",
    "\n",
    "# X: array-like\n",
    "# window: int\n",
    "\n"
   ]
  },
  {
   "cell_type": "markdown",
   "metadata": {},
   "source": [
    "### 中位数"
   ]
  },
  {
   "cell_type": "code",
   "execution_count": null,
   "metadata": {},
   "outputs": [],
   "source": [
    "\n",
    "\n",
    "import numpy as np\n",
    "np.median(np.array(X))\n",
    "\n",
    "# X: array-like\n",
    "# https://docs.scipy.org/doc/numpy-1.13.0/reference/generated/numpy.median.html\n"
   ]
  },
  {
   "cell_type": "markdown",
   "metadata": {},
   "source": [
    "### 一些列的单一属性（如最大最大值，列的类型为数值型）"
   ]
  },
  {
   "cell_type": "code",
   "execution_count": null,
   "metadata": {},
   "outputs": [],
   "source": [
    "\n",
    "\n",
    "my_df[\"col\"].max() # [[\"col_0\", \"col_1\"]] 多字段\n",
    "\n"
   ]
  },
  {
   "cell_type": "markdown",
   "metadata": {},
   "source": [
    "### 组数据的基本信息"
   ]
  },
  {
   "cell_type": "code",
   "execution_count": null,
   "metadata": {},
   "outputs": [],
   "source": [
    "\n",
    "\n",
    "# columns settings\n",
    "grouped_on = 'col_0'  # ['col_0', 'col_1'] for multiple columns\n",
    "aggregated_column = 'col_1'\n",
    "\n",
    "### Choice of aggregate functions\n",
    "## On non-NA values in the group\n",
    "## - numeric choice : mean, median, sum, std, var, min, max, prod\n",
    "## - group choice : first, last, count\n",
    "## On the group lines\n",
    "## - size of the group : size\n",
    "aggregated_values = my_df.groupby(grouped_on)[aggregated_column].mean()\n",
    "aggregated_values.name = 'mean'\n",
    "\n",
    "# get the aggregate of group\n",
    "aggregated_values.ix[group]\n"
   ]
  },
  {
   "cell_type": "markdown",
   "metadata": {},
   "source": [
    "### 数据组的遍历"
   ]
  },
  {
   "cell_type": "code",
   "execution_count": null,
   "metadata": {},
   "outputs": [],
   "source": [
    "\n",
    "\n",
    "# columns settings\n",
    "grouped_on = 'col_0'  # ['col_0', 'col_1'] for multiple columns\n",
    "\n",
    "grouped = my_df.groupby(grouped_on)\n",
    "\n",
    "i = 0\n",
    "for group_name, group_dataframe in grouped:\n",
    "    if i > 10:\n",
    "        break\n",
    "    i += 1\n",
    "    print(i, group_name, group_dataframe.mean())  ## mean on all numerical columns\n",
    "\n"
   ]
  },
  {
   "cell_type": "markdown",
   "metadata": {},
   "source": [
    "### 协方差"
   ]
  },
  {
   "cell_type": "code",
   "execution_count": null,
   "metadata": {},
   "outputs": [],
   "source": [
    "\n",
    "\n",
    "my_df.cov()\n",
    "\n"
   ]
  },
  {
   "cell_type": "markdown",
   "metadata": {},
   "source": [
    "### K平均数算法"
   ]
  },
  {
   "cell_type": "code",
   "execution_count": null,
   "metadata": {},
   "outputs": [],
   "source": [
    "\n",
    "\n",
    "import numpy as np\n",
    "from sklearn.cluster import KMeans\n",
    "\n",
    "k_means = KMeans(k).fit(np.array(X))\n",
    "result = k_means.labels_\n",
    "label = result.tolist()\n",
    "return label, k, k_means.cluster_centers_.tolist(), k_means.inertia_\n",
    "\n",
    "# k: int, k>=2\n",
    "# X: array-like\n",
    "# http://scikit-learn.org/stable/modules/generated/sklearn.cluster.KMeans.html\n"
   ]
  },
  {
   "cell_type": "markdown",
   "metadata": {},
   "source": [
    "### 最大互信息数"
   ]
  },
  {
   "cell_type": "code",
   "execution_count": null,
   "metadata": {},
   "outputs": [],
   "source": [
    "\n",
    "\n",
    "import numpy as np\n",
    "\n",
    "matrix = np.transpose(np.array(X)).astype(float)\n",
    "mine = MINE(alpha=0.6, c=15, est=\"mic_approx\")\n",
    "mic_result = []\n",
    "for i in matrix[1:]:\n",
    "    mine.compute_score(t_matrix[0], i)\n",
    "    mic_result.append(mine.mic())\n",
    "return mic_result\n",
    "\n",
    "\n"
   ]
  },
  {
   "cell_type": "markdown",
   "metadata": {},
   "source": [
    "### 皮尔森相关系数"
   ]
  },
  {
   "cell_type": "code",
   "execution_count": null,
   "metadata": {},
   "outputs": [],
   "source": [
    "\n",
    "\n",
    "import numpy as np \n",
    "\n",
    "matrix = np.transpose(np.array(X))\n",
    "np.corrcoef(matrix[0], matrix[1])[0, 1]\n",
    "\n",
    "# X: array-like\n",
    "# https://docs.scipy.org/doc/numpy-1.13.0/reference/generated/numpy.corrcoef.html\n",
    "\n",
    "\n"
   ]
  },
  {
   "cell_type": "markdown",
   "metadata": {},
   "source": [
    "### 标准差"
   ]
  },
  {
   "cell_type": "code",
   "execution_count": null,
   "metadata": {},
   "outputs": [],
   "source": [
    "\n",
    "\n",
    "import numpy as np\n",
    "np.std(np.array(X))\n",
    "\n",
    "# X: array-like\n",
    "# https://docs.scipy.org/doc/numpy-1.13.0/reference/generated/numpy.std.html\n"
   ]
  },
  {
   "cell_type": "markdown",
   "metadata": {},
   "source": [
    "### 方差"
   ]
  },
  {
   "cell_type": "code",
   "execution_count": null,
   "metadata": {},
   "outputs": [],
   "source": [
    "\n",
    "\n",
    "import numpy as np\n",
    "\n",
    "np.var(np.array(X))\n",
    "\n",
    "# X: array-like\n",
    "# https://docs.scipy.org/doc/numpy-1.13.0/reference/generated/numpy.var.html\n"
   ]
  },
  {
   "cell_type": "markdown",
   "metadata": {},
   "source": [
    "### 行列数"
   ]
  },
  {
   "cell_type": "code",
   "execution_count": null,
   "metadata": {},
   "outputs": [],
   "source": []
  },
  {
   "cell_type": "markdown",
   "metadata": {},
   "source": [
    "### 以频率降序排列"
   ]
  },
  {
   "cell_type": "code",
   "execution_count": null,
   "metadata": {},
   "outputs": [],
   "source": []
  },
  {
   "cell_type": "markdown",
   "metadata": {},
   "source": [
    "### 以列值排序"
   ]
  },
  {
   "cell_type": "code",
   "execution_count": null,
   "metadata": {},
   "outputs": [],
   "source": []
  },
  {
   "cell_type": "markdown",
   "metadata": {},
   "source": [
    "### 所有列（列的数据类型为数值型）"
   ]
  },
  {
   "cell_type": "code",
   "execution_count": null,
   "metadata": {},
   "outputs": [],
   "source": []
  },
  {
   "cell_type": "markdown",
   "metadata": {},
   "source": [
    "### 所有列的单一属性（如最大值，列的数据类型为数值型）"
   ]
  },
  {
   "cell_type": "code",
   "execution_count": null,
   "metadata": {},
   "outputs": [],
   "source": []
  },
  {
   "cell_type": "markdown",
   "metadata": {},
   "source": [
    "### 平均数"
   ]
  },
  {
   "cell_type": "code",
   "execution_count": null,
   "metadata": {},
   "outputs": [],
   "source": []
  },
  {
   "cell_type": "markdown",
   "metadata": {},
   "source": [
    "### 获得类别字段的频数"
   ]
  },
  {
   "cell_type": "code",
   "execution_count": null,
   "metadata": {},
   "outputs": [],
   "source": []
  },
  {
   "cell_type": "markdown",
   "metadata": {},
   "source": [
    "### 查看缺失情况"
   ]
  },
  {
   "cell_type": "code",
   "execution_count": null,
   "metadata": {},
   "outputs": [],
   "source": []
  },
  {
   "cell_type": "markdown",
   "metadata": {},
   "source": [
    "### 查看字段包含unique值的程度"
   ]
  },
  {
   "cell_type": "code",
   "execution_count": null,
   "metadata": {},
   "outputs": [],
   "source": []
  },
  {
   "cell_type": "code",
   "execution_count": null,
   "metadata": {},
   "outputs": [],
   "source": []
  },
  {
   "cell_type": "code",
   "execution_count": null,
   "metadata": {},
   "outputs": [],
   "source": []
  }
 ],
 "metadata": {
  "kernelspec": {
   "display_name": "Python 3",
   "language": "python",
   "name": "python3"
  },
  "language_info": {
   "codemirror_mode": {
    "name": "ipython",
    "version": 3
   },
   "file_extension": ".py",
   "mimetype": "text/x-python",
   "name": "python",
   "nbconvert_exporter": "python",
   "pygments_lexer": "ipython3",
   "version": "3.7.3"
  }
 },
 "nbformat": 4,
 "nbformat_minor": 2
}
